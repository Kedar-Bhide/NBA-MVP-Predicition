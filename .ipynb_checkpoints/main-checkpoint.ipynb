{
 "cells": [
  {
   "cell_type": "code",
   "execution_count": 1,
   "metadata": {},
   "outputs": [
    {
     "ename": "ModuleNotFoundError",
     "evalue": "No module named 'sklearn'",
     "output_type": "error",
     "traceback": [
      "\u001b[1;31m---------------------------------------------------------------------------\u001b[0m",
      "\u001b[1;31mModuleNotFoundError\u001b[0m                       Traceback (most recent call last)",
      "\u001b[1;32m<ipython-input-1-986283376715>\u001b[0m in \u001b[0;36m<module>\u001b[1;34m\u001b[0m\n\u001b[0;32m      2\u001b[0m \u001b[1;32mimport\u001b[0m \u001b[0mrequests\u001b[0m\u001b[1;33m\u001b[0m\u001b[1;33m\u001b[0m\u001b[0m\n\u001b[0;32m      3\u001b[0m \u001b[1;32mimport\u001b[0m \u001b[0mos\u001b[0m\u001b[1;33m\u001b[0m\u001b[1;33m\u001b[0m\u001b[0m\n\u001b[1;32m----> 4\u001b[1;33m \u001b[1;32mfrom\u001b[0m \u001b[0msklearn\u001b[0m\u001b[1;33m.\u001b[0m\u001b[0mlinear_model\u001b[0m \u001b[1;32mimport\u001b[0m \u001b[0mLogisticRegression\u001b[0m\u001b[1;33m,\u001b[0m \u001b[0mLinearRegression\u001b[0m\u001b[1;33m\u001b[0m\u001b[1;33m\u001b[0m\u001b[0m\n\u001b[0m\u001b[0;32m      5\u001b[0m \u001b[1;32mfrom\u001b[0m \u001b[0msklearn\u001b[0m\u001b[1;33m.\u001b[0m\u001b[0mdecomposition\u001b[0m \u001b[1;32mimport\u001b[0m \u001b[0mPCA\u001b[0m\u001b[1;33m\u001b[0m\u001b[1;33m\u001b[0m\u001b[0m\n\u001b[0;32m      6\u001b[0m \u001b[1;32mfrom\u001b[0m \u001b[0msklearn\u001b[0m\u001b[1;33m.\u001b[0m\u001b[0mpipeline\u001b[0m \u001b[1;32mimport\u001b[0m \u001b[0mPipeline\u001b[0m\u001b[1;33m\u001b[0m\u001b[1;33m\u001b[0m\u001b[0m\n",
      "\u001b[1;31mModuleNotFoundError\u001b[0m: No module named 'sklearn'"
     ]
    }
   ],
   "source": [
    "import pandas as pd\n",
    "import requests\n",
    "import os\n",
    "from sklearn.linear_model import LogisticRegression, LinearRegression\n",
    "from sklearn.decomposition import PCA\n",
    "from sklearn.pipeline import Pipeline\n",
    "from sklearn.impute import SimpleImputer\n",
    "from sklearn.preprocessing import StandardScaler\n",
    "from sklearn.metrics import confusion_matrix, precision_score, recall_score\n",
    "from sklearn.metrics import r2_score, mean_absolute_error\n",
    "from sklearn.model_selection import train_test_split\n",
    "import matplotlib.pyplot as plt\n",
    "\n",
    "plt.rcParams[\"font.size\"] = 16"
   ]
  },
  {
   "cell_type": "markdown",
   "metadata": {},
   "source": [
    "# Data"
   ]
  },
  {
   "cell_type": "code",
   "execution_count": null,
   "metadata": {},
   "outputs": [],
   "source": [
    "read_file = pd.read_csv (r'train.txt')\n",
    "read_file.to_csv(r'train.csv', index=None)\n",
    "train = pd.read_csv(\"train.csv\")\n",
    "shares = [0.9520000000000001,0.932,0.955,0.879,1.0,0.922,0.986,0.998,0.888,0.977,0.98,0.9690000000000001,0.873,\n",
    "         0.882,0.7390000000000001,0.8390000000000001,0.991,0.8079999999999999,0.757,0.904,0.998,0.701,0.934,\n",
    "         0.857,0.986,0.858,0.88,0.852,0.938,0.9279999999999999,0.691,0.782,0.831,0.94,0.981,0.978,0.858,\n",
    "         0.96,0.735,0.6579999999999999]\n",
    "train[\"Share\"] = shares\n",
    "train"
   ]
  },
  {
   "cell_type": "code",
   "execution_count": null,
   "metadata": {},
   "outputs": [],
   "source": [
    "read_file = pd.read_csv (r'test.txt')\n",
    "read_file.to_csv(r'test.csv', index=None)\n",
    "test = pd.read_csv(\"test.csv\")\n",
    "test = test.drop(columns=['Unnamed: 31'])\n",
    "test"
   ]
  },
  {
   "cell_type": "markdown",
   "metadata": {},
   "source": [
    "# Descriptive Analysis"
   ]
  },
  {
   "cell_type": "code",
   "execution_count": null,
   "metadata": {},
   "outputs": [],
   "source": [
    "ax = test.plot(x='Rk',y=['FG%','3P%','FT%'], kind='bar', figsize = (15,5))\n",
    "ax.set_xticklabels([1,2,3,4,5,6,7,8,9,10], rotation = 360)\n",
    "ax.set_xlabel('Rank')\n",
    "ax.set_ylabel('Features')\n",
    "ax.set_title(\"Figure 1: Features Vs Rank (2020-21 Season)\", pad=20)"
   ]
  },
  {
   "cell_type": "code",
   "execution_count": null,
   "metadata": {},
   "outputs": [],
   "source": [
    "xcols = ['G','PTS','FG%','3P%','FT%','TRB','AST','STL','BLK']\n",
    "ycol = \"Share\""
   ]
  },
  {
   "cell_type": "markdown",
   "metadata": {},
   "source": [
    "# Principal Component Analysis"
   ]
  },
  {
   "cell_type": "code",
   "execution_count": null,
   "metadata": {},
   "outputs": [],
   "source": [
    "def explained(scale):\n",
    "    \n",
    "    stages = [(\"imp\", SimpleImputer(strategy=\"most_frequent\"))]\n",
    "    \n",
    "    if scale:\n",
    "        stages.append((\"std\", StandardScaler()))\n",
    "    stages.append((\"pca\", PCA()))\n",
    "    \n",
    "    p = Pipeline(stages)\n",
    "    p.fit(train[xcols])\n",
    "\n",
    "    explained = p[\"pca\"].explained_variance_\n",
    "    s = pd.Series(explained.cumsum() / explained.sum(),\n",
    "                  index=range(1, len(xcols)+1))\n",
    "    print(s)\n",
    "    return s"
   ]
  },
  {
   "cell_type": "code",
   "execution_count": null,
   "metadata": {},
   "outputs": [],
   "source": [
    "ax = explained(False).plot.line(label=\"not scaled\", ylim=0)\n",
    "explained(True).plot.line(label=\"scaled\", ax=ax)\n",
    "ax.set_xlabel(\"Number of Components\")\n",
    "ax.set_ylabel(\"Explained Variance\")\n",
    "ax.spines[\"top\"].set_visible(False)\n",
    "ax.spines[\"right\"].set_visible(False)\n",
    "ax.legend(frameon=False)\n",
    "ax.set_title(\"Figure 2: Principal Components of Breaks\", pad=20)"
   ]
  },
  {
   "cell_type": "markdown",
   "metadata": {},
   "source": [
    "# Linear Regression"
   ]
  },
  {
   "cell_type": "code",
   "execution_count": null,
   "metadata": {},
   "outputs": [],
   "source": [
    "lr = LinearRegression()\n",
    "lr.fit(train[xcols], train[ycol])"
   ]
  },
  {
   "cell_type": "code",
   "execution_count": null,
   "metadata": {},
   "outputs": [],
   "source": [
    "test[\"predicted_shares\"] = lr.predict(test[xcols])\n",
    "test"
   ]
  },
  {
   "cell_type": "code",
   "execution_count": null,
   "metadata": {},
   "outputs": [],
   "source": [
    "ax1 = pd.Series(lr.coef_, index = xcols).plot.barh()\n",
    "ax1.set_xlabel(\"Weight\")\n",
    "ax1.set_ylabel(\"Feature\")\n",
    "ax1.spines[\"top\"].set_visible(False)\n",
    "ax1.spines[\"right\"].set_visible(False)\n",
    "ax1.set_title(\"Figure 3: Linear Regression Coefficients\", pad=20)"
   ]
  },
  {
   "cell_type": "markdown",
   "metadata": {},
   "source": [
    "# Prediction"
   ]
  },
  {
   "cell_type": "code",
   "execution_count": null,
   "metadata": {},
   "outputs": [],
   "source": [
    "for rank in range(len(test[\"Rk\"].tolist())):\n",
    "    print((rank+1), \" \", test[\"Player\"].tolist()[rank])"
   ]
  },
  {
   "cell_type": "code",
   "execution_count": null,
   "metadata": {},
   "outputs": [],
   "source": [
    "test_pred = test.sort_values(by=['predicted_shares'], ascending=False)\n",
    "for rank in range(len(test_pred[\"Rk\"].tolist())):\n",
    "    print(\"Expected: \", (rank+1), \" \", \"Current: \", test_pred[\"Rk\"].tolist()[rank], \" \", test_pred[\"Player\"].tolist()[rank])"
   ]
  }
 ],
 "metadata": {
  "kernelspec": {
   "display_name": "Python 3",
   "language": "python",
   "name": "python3"
  },
  "language_info": {
   "codemirror_mode": {
    "name": "ipython",
    "version": 3
   },
   "file_extension": ".py",
   "mimetype": "text/x-python",
   "name": "python",
   "nbconvert_exporter": "python",
   "pygments_lexer": "ipython3",
   "version": "3.8.5"
  }
 },
 "nbformat": 4,
 "nbformat_minor": 5
}
